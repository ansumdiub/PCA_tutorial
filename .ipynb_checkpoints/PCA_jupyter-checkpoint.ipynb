{
 "cells": [
  {
   "cell_type": "markdown",
   "metadata": {},
   "source": [
    "Scott Broderick, An Su, and Krishna Rajan<Br>\n",
    "Department of Materials Design and Innovation<Br>\n",
    "University at Buffalo"
   ]
  },
  {
   "cell_type": "markdown",
   "metadata": {},
   "source": [
    "# Principal Component Analysis (PCA)"
   ]
  },
  {
   "cell_type": "markdown",
   "metadata": {},
   "source": [
    "The primary equation for PCA is:"
   ]
  },
  {
   "cell_type": "markdown",
   "metadata": {},
   "source": [
    "<pre> X = T*P<sup>T</sup> + E                                                     [1] </pre>"
   ]
  },
  {
   "cell_type": "markdown",
   "metadata": {},
   "source": [
    "Where X is the input data, T is the scores matrix, P is the loadings matrix, and E is the residual matrix. It seems quite simple. But what do these matrices really contain?\n",
    "Let’s do an example, with the following input data:"
   ]
  },
  {
   "cell_type": "code",
   "execution_count": 13,
   "metadata": {},
   "outputs": [
    {
     "data": {
      "text/html": [
       "<script type=\"text/javascript\">window.PlotlyConfig = {MathJaxConfig: 'local'};</script><script type=\"text/javascript\">if (window.MathJax) {MathJax.Hub.Config({SVG: {font: \"STIX-Web\"}});}</script><script>requirejs.config({paths: { 'plotly': ['https://cdn.plot.ly/plotly-latest.min']},});if(!window._Plotly) {require(['plotly'],function(plotly) {window._Plotly=plotly;});}</script>"
      ],
      "text/vnd.plotly.v1+html": [
       "<script type=\"text/javascript\">window.PlotlyConfig = {MathJaxConfig: 'local'};</script><script type=\"text/javascript\">if (window.MathJax) {MathJax.Hub.Config({SVG: {font: \"STIX-Web\"}});}</script><script>requirejs.config({paths: { 'plotly': ['https://cdn.plot.ly/plotly-latest.min']},});if(!window._Plotly) {require(['plotly'],function(plotly) {window._Plotly=plotly;});}</script>"
      ]
     },
     "metadata": {},
     "output_type": "display_data"
    },
    {
     "data": {
      "application/vnd.plotly.v1+json": {
       "config": {
        "linkText": "Export to plot.ly",
        "plotlyServerURL": "https://plot.ly",
        "showLink": false
       },
       "data": [
        {
         "cells": {
          "align": [
           "left",
           "left",
           "left",
           "left",
           "left"
          ],
          "fill": {
           "color": "#F5F8FF"
          },
          "values": [
           [
            "Sc",
            "Ti",
            "V",
            "Cr"
           ],
           [
            0.02,
            0.02,
            0.05,
            0.08
           ],
           [
            0.16,
            0.22,
            0.31,
            0.94
           ],
           [
            1814,
            1933,
            2160,
            2130
           ],
           [
            44.96,
            47.88,
            50.94,
            52
           ],
           [
            2.99,
            4.54,
            6.11,
            7.19
           ]
          ]
         },
         "header": {
          "align": [
           "left",
           "left",
           "left",
           "left",
           "left"
          ],
          "fill": {
           "color": "#C2D4FF"
          },
          "values": [
           "Element",
           "Electrical Conductivity (10^6/cm ohm)",
           "Thermal Conductivity at 300K (W/cmK)",
           "Melting Point (K)",
           "Atomic Weight",
           "Density @ 293K (g/cm3)"
          ]
         },
         "type": "table",
         "uid": "26b7742d-43b5-4794-86bd-8520a595f523"
        }
       ],
       "layout": {}
      },
      "text/html": [
       "<div id=\"d10c1060-7f49-4852-9a9f-87e9d2993084\" style=\"height: 525px; width: 100%;\" class=\"plotly-graph-div\"></div><script type=\"text/javascript\">require([\"plotly\"], function(Plotly) { window.PLOTLYENV=window.PLOTLYENV || {};window.PLOTLYENV.BASE_URL=\"https://plot.ly\";Plotly.newPlot(\"d10c1060-7f49-4852-9a9f-87e9d2993084\", [{\"cells\": {\"align\": [\"left\", \"left\", \"left\", \"left\", \"left\"], \"fill\": {\"color\": \"#F5F8FF\"}, \"values\": [[\"Sc\", \"Ti\", \"V\", \"Cr\"], [0.02, 0.02, 0.05, 0.08], [0.16, 0.22, 0.31, 0.94], [1814, 1933, 2160, 2130], [44.96, 47.88, 50.94, 52.0], [2.99, 4.54, 6.11, 7.19]]}, \"header\": {\"align\": [\"left\", \"left\", \"left\", \"left\", \"left\"], \"fill\": {\"color\": \"#C2D4FF\"}, \"values\": [\"Element\", \"Electrical Conductivity (10^6/cm ohm)\", \"Thermal Conductivity at 300K (W/cmK)\", \"Melting Point (K)\", \"Atomic Weight\", \"Density @ 293K (g/cm3)\"]}, \"type\": \"table\", \"uid\": \"fdcdca64-0286-43bd-9069-c76613c07973\"}], {}, {\"showLink\": false, \"linkText\": \"Export to plot.ly\", \"plotlyServerURL\": \"https://plot.ly\"})});</script><script type=\"text/javascript\">window.addEventListener(\"resize\", function(){window._Plotly.Plots.resize(document.getElementById(\"d10c1060-7f49-4852-9a9f-87e9d2993084\"));});</script>"
      ],
      "text/vnd.plotly.v1+html": [
       "<div id=\"d10c1060-7f49-4852-9a9f-87e9d2993084\" style=\"height: 525px; width: 100%;\" class=\"plotly-graph-div\"></div><script type=\"text/javascript\">require([\"plotly\"], function(Plotly) { window.PLOTLYENV=window.PLOTLYENV || {};window.PLOTLYENV.BASE_URL=\"https://plot.ly\";Plotly.newPlot(\"d10c1060-7f49-4852-9a9f-87e9d2993084\", [{\"cells\": {\"align\": [\"left\", \"left\", \"left\", \"left\", \"left\"], \"fill\": {\"color\": \"#F5F8FF\"}, \"values\": [[\"Sc\", \"Ti\", \"V\", \"Cr\"], [0.02, 0.02, 0.05, 0.08], [0.16, 0.22, 0.31, 0.94], [1814, 1933, 2160, 2130], [44.96, 47.88, 50.94, 52.0], [2.99, 4.54, 6.11, 7.19]]}, \"header\": {\"align\": [\"left\", \"left\", \"left\", \"left\", \"left\"], \"fill\": {\"color\": \"#C2D4FF\"}, \"values\": [\"Element\", \"Electrical Conductivity (10^6/cm ohm)\", \"Thermal Conductivity at 300K (W/cmK)\", \"Melting Point (K)\", \"Atomic Weight\", \"Density @ 293K (g/cm3)\"]}, \"type\": \"table\", \"uid\": \"fdcdca64-0286-43bd-9069-c76613c07973\"}], {}, {\"showLink\": false, \"linkText\": \"Export to plot.ly\", \"plotlyServerURL\": \"https://plot.ly\"})});</script><script type=\"text/javascript\">window.addEventListener(\"resize\", function(){window._Plotly.Plots.resize(document.getElementById(\"d10c1060-7f49-4852-9a9f-87e9d2993084\"));});</script>"
      ]
     },
     "metadata": {},
     "output_type": "display_data"
    }
   ],
   "source": [
    "# We use Plotly, a Python graphing library, to help us plot nice graphs and tables\n",
    "# If you are interested in Plotly, please visit https://plot.ly/python/getting-started/\n",
    "import plotly.graph_objs as go\n",
    "from plotly.offline import download_plotlyjs, init_notebook_mode, plot, iplot\n",
    "\n",
    "# Pandas and Numpy are used to manipulate the data\n",
    "import pandas as pd\n",
    "import numpy as np\n",
    "\n",
    "# Initiate the Plotly Notebook mode\n",
    "init_notebook_mode(connected=True)\n",
    "\n",
    "# Define a plot function to print a table conveniently\n",
    "def plot_df(df):\n",
    "    trace = go.Table(header = dict(values = list(df.reset_index().columns),\n",
    "                        fill = dict(color='#C2D4FF'),\n",
    "                        align = ['left'] * 5),    \n",
    "                    cells = dict(values = [df.index,\n",
    "                        df['Electrical Conductivity (10^6/cm ohm)'],\n",
    "                        df['Thermal Conductivity at 300K (W/cmK)'],\n",
    "                        df['Melting Point (K)'],\n",
    "                        df['Atomic Weight'],\n",
    "                        df['Density @ 293K (g/cm3)']],\n",
    "                        fill = dict(color='#F5F8FF'),\n",
    "                        align = ['left'] * 5))\n",
    "    return [trace] \n",
    "\n",
    "# Create a Pandas DataFrame for input data\n",
    "data = [[0.02,0.16,1814,44.96,2.99],\n",
    "        [0.02,0.22,1933,47.88,4.54],\n",
    "        [0.05,0.31,2160,50.94,6.11],\n",
    "        [0.08,0.94,2130,52.00,7.19]]\n",
    "input_df = pd.DataFrame(data,index = ['Sc','Ti','V','Cr'],columns=['Electrical Conductivity (10^6/cm ohm)',\n",
    "                                'Thermal Conductivity at 300K (W/cmK)', \n",
    "                                'Melting Point (K)',\n",
    "                                'Atomic Weight',\n",
    "                                'Density @ 293K (g/cm3)'])\n",
    "input_df.index = input_df.index.set_names(['Element'])\n",
    "\n",
    "# Plot the input data\n",
    "iplot(plot_df(input_df), filename = 'Input_Data_table')\n"
   ]
  },
  {
   "cell_type": "markdown",
   "metadata": {},
   "source": [
    "## Step 1: What is X?"
   ]
  },
  {
   "cell_type": "markdown",
   "metadata": {},
   "source": [
    "Since this is the input data, is it X from equation 1? No. An important consideration of X is that it is the pre-processed input data. Aside 1: in singular value decomposition (SVD) – another common data mining method – this data is indeed X in equation 1. The lack of removing the mean of the variables from the data as pre-processing is the primary difference between PCA and SVD. Aside 2: When do we not want to remove the mean? If we are interested in doing a study of the background as background effects are reduced in PCA, or if we are dealing with sparse data, where the measure of the mean of the data is not reliable.\n",
    "\n",
    "In PCA, the rows of this matrix, which we will term X<Sub>input</Sub>, are the conditions (i.e. what we can control – chemistry, processing, structure, etc.) while the columns are the responses (e.g. properties, measurements, etc.). Note, if you do not pre-process the data such as in SVD, the final analysis result of the transpose is identical, and just T and P are opposite. If you do pre-process the data, then conditions must be the rows and responses must be the columns, otherwise your answer will be wrong.\n",
    "\n",
    "First, we will subtract the mean (average) of each column from X<sub>input</sub>. The reason for removing the mean is so we can calculate the relational change in responses as a function of changing conditions. That is, without mean centering, we can identify general trends in the data but cannot easily capture specific relationships in the data. For example, melting point increases along with row number, but withoutmean centering, defining the physical explanation becomes challenging. This will become clearer when interpreting the final results. Subtracting the means of X<Sub>input</Sub> from each column yields X<sub>mean</sub> of:"
   ]
  },
  {
   "cell_type": "code",
   "execution_count": 14,
   "metadata": {},
   "outputs": [
    {
     "data": {
      "application/vnd.plotly.v1+json": {
       "config": {
        "linkText": "Export to plot.ly",
        "plotlyServerURL": "https://plot.ly",
        "showLink": false
       },
       "data": [
        {
         "cells": {
          "align": [
           "left",
           "left",
           "left",
           "left",
           "left"
          ],
          "fill": {
           "color": "#F5F8FF"
          },
          "values": [
           [
            "Sc",
            "Ti",
            "V",
            "Cr",
            "Average"
           ],
           [
            -0.0225,
            -0.0225,
            0.0075,
            0.0375,
            0
           ],
           [
            -0.2475,
            -0.1875,
            -0.0975,
            0.5325,
            0
           ],
           [
            -195.25,
            -76.25,
            150.75,
            120.75,
            0
           ],
           [
            -3.985,
            -1.065,
            1.995,
            3.055,
            0
           ],
           [
            -2.2175,
            -0.6675,
            0.9025,
            1.9825,
            0
           ]
          ]
         },
         "header": {
          "align": [
           "left",
           "left",
           "left",
           "left",
           "left"
          ],
          "fill": {
           "color": "#C2D4FF"
          },
          "values": [
           "Element",
           "Electrical Conductivity (10^6/cm ohm)",
           "Thermal Conductivity at 300K (W/cmK)",
           "Melting Point (K)",
           "Atomic Weight",
           "Density @ 293K (g/cm3)"
          ]
         },
         "type": "table",
         "uid": "15b04e73-8b7a-4142-93e4-8d093a0e2992"
        }
       ],
       "layout": {}
      },
      "text/html": [
       "<div id=\"edcf428d-8f85-42cc-b7d7-ae8ac09a6d2c\" style=\"height: 525px; width: 100%;\" class=\"plotly-graph-div\"></div><script type=\"text/javascript\">require([\"plotly\"], function(Plotly) { window.PLOTLYENV=window.PLOTLYENV || {};window.PLOTLYENV.BASE_URL=\"https://plot.ly\";Plotly.newPlot(\"edcf428d-8f85-42cc-b7d7-ae8ac09a6d2c\", [{\"cells\": {\"align\": [\"left\", \"left\", \"left\", \"left\", \"left\"], \"fill\": {\"color\": \"#F5F8FF\"}, \"values\": [[\"Sc\", \"Ti\", \"V\", \"Cr\", \"Average\"], [-0.0225, -0.0225, 0.0075, 0.0375, 0.0], [-0.2475, -0.1875, -0.0975, 0.5325, 0.0], [-195.25, -76.25, 150.75, 120.75, 0.0], [-3.985, -1.065, 1.995, 3.055, 0.0], [-2.2175, -0.6675, 0.9025, 1.9825, -0.0]]}, \"header\": {\"align\": [\"left\", \"left\", \"left\", \"left\", \"left\"], \"fill\": {\"color\": \"#C2D4FF\"}, \"values\": [\"Element\", \"Electrical Conductivity (10^6/cm ohm)\", \"Thermal Conductivity at 300K (W/cmK)\", \"Melting Point (K)\", \"Atomic Weight\", \"Density @ 293K (g/cm3)\"]}, \"type\": \"table\", \"uid\": \"859e5bff-bc6c-4909-8dd2-0d92ee399f86\"}], {}, {\"showLink\": false, \"linkText\": \"Export to plot.ly\", \"plotlyServerURL\": \"https://plot.ly\"})});</script><script type=\"text/javascript\">window.addEventListener(\"resize\", function(){window._Plotly.Plots.resize(document.getElementById(\"edcf428d-8f85-42cc-b7d7-ae8ac09a6d2c\"));});</script>"
      ],
      "text/vnd.plotly.v1+html": [
       "<div id=\"edcf428d-8f85-42cc-b7d7-ae8ac09a6d2c\" style=\"height: 525px; width: 100%;\" class=\"plotly-graph-div\"></div><script type=\"text/javascript\">require([\"plotly\"], function(Plotly) { window.PLOTLYENV=window.PLOTLYENV || {};window.PLOTLYENV.BASE_URL=\"https://plot.ly\";Plotly.newPlot(\"edcf428d-8f85-42cc-b7d7-ae8ac09a6d2c\", [{\"cells\": {\"align\": [\"left\", \"left\", \"left\", \"left\", \"left\"], \"fill\": {\"color\": \"#F5F8FF\"}, \"values\": [[\"Sc\", \"Ti\", \"V\", \"Cr\", \"Average\"], [-0.0225, -0.0225, 0.0075, 0.0375, 0.0], [-0.2475, -0.1875, -0.0975, 0.5325, 0.0], [-195.25, -76.25, 150.75, 120.75, 0.0], [-3.985, -1.065, 1.995, 3.055, 0.0], [-2.2175, -0.6675, 0.9025, 1.9825, -0.0]]}, \"header\": {\"align\": [\"left\", \"left\", \"left\", \"left\", \"left\"], \"fill\": {\"color\": \"#C2D4FF\"}, \"values\": [\"Element\", \"Electrical Conductivity (10^6/cm ohm)\", \"Thermal Conductivity at 300K (W/cmK)\", \"Melting Point (K)\", \"Atomic Weight\", \"Density @ 293K (g/cm3)\"]}, \"type\": \"table\", \"uid\": \"859e5bff-bc6c-4909-8dd2-0d92ee399f86\"}], {}, {\"showLink\": false, \"linkText\": \"Export to plot.ly\", \"plotlyServerURL\": \"https://plot.ly\"})});</script><script type=\"text/javascript\">window.addEventListener(\"resize\", function(){window._Plotly.Plots.resize(document.getElementById(\"edcf428d-8f85-42cc-b7d7-ae8ac09a6d2c\"));});</script>"
      ]
     },
     "metadata": {},
     "output_type": "display_data"
    }
   ],
   "source": [
    "# Calculate Xmean\n",
    "Xmean = input_df - input_df.mean()\n",
    "Xmean.loc['Average'] = Xmean.mean()\n",
    "\n",
    "# Plot Xmean\n",
    "iplot(plot_df(Xmean.round(4)), filename = 'Xmean_table')"
   ]
  },
  {
   "cell_type": "markdown",
   "metadata": {},
   "source": [
    "Note that after mean centering, the mean of each column is zero. One possible error is the number of places beyond the decimal point to include. If you get average values that are not exactly zero, this error will be carried out through the entire calculation, so if you are not getting zero, check that you are consistent in the number of decimal points used throughout the analysis. Also, in cases where there are obvious outliers in the data, using the median instead of the mean may be appropriate to reduce the effect of outliers.\n",
    "\n",
    "After mean centering the data, we standardize the data. The reason is because the units of the variables are different. If instead of using K for melting point we instead used mK, the final result would significantly change, although the data is the same. Additionally, melting point values have magnitude of 10<sup>3</sup>, while electrical conductivity has magnitude of 10<sup>-2</sup> so that equal percent changes between columns results in very different quantitative changes. In cases where the units are the same (for example, spectral data or repeated experiments), standardization may not be necessary.\n",
    "\n",
    "An issue is whether to use the sample standard deviation or the population standard deviation. The values will be different because for the sample standard deviation, the deviation in the data is divided by degrees of freedom instead of the number of samples as in population standard deviation. Logically, we would use the sample standard deviation because we are not using a complete data set; that is, the data set we have could be expanded to a larger number of elements. Thus, in order for the results to be more robust, we will use the sample standard deviation.\n",
    "\n",
    "The matrix below is X in equation 1."
   ]
  },
  {
   "cell_type": "code",
   "execution_count": 15,
   "metadata": {},
   "outputs": [
    {
     "data": {
      "application/vnd.plotly.v1+json": {
       "config": {
        "linkText": "Export to plot.ly",
        "plotlyServerURL": "https://plot.ly",
        "showLink": false
       },
       "data": [
        {
         "cells": {
          "align": [
           "left",
           "left",
           "left",
           "left",
           "left"
          ],
          "fill": {
           "color": "#F5F8FF"
          },
          "values": [
           [
            "Sc",
            "Ti",
            "V",
            "Cr"
           ],
           [
            -0.7833,
            -0.7833,
            0.2611,
            1.3056
           ],
           [
            -0.6869,
            -0.5204,
            -0.2706,
            1.4779
           ],
           [
            -1.1865,
            -0.4633,
            0.9161,
            0.7338
           ],
           [
            -1.2533,
            -0.335,
            0.6275,
            0.9608
           ],
           [
            -1.2081,
            -0.3637,
            0.4917,
            1.0801
           ]
          ]
         },
         "header": {
          "align": [
           "left",
           "left",
           "left",
           "left",
           "left"
          ],
          "fill": {
           "color": "#C2D4FF"
          },
          "values": [
           "Element",
           "Electrical Conductivity (10^6/cm ohm)",
           "Thermal Conductivity at 300K (W/cmK)",
           "Melting Point (K)",
           "Atomic Weight",
           "Density @ 293K (g/cm3)"
          ]
         },
         "type": "table",
         "uid": "bc5ca2b9-0a9d-460c-bdb0-3ad06754afd6"
        }
       ],
       "layout": {}
      },
      "text/html": [
       "<div id=\"a7277c1b-1750-437e-849e-98fd08f3bbb5\" style=\"height: 525px; width: 100%;\" class=\"plotly-graph-div\"></div><script type=\"text/javascript\">require([\"plotly\"], function(Plotly) { window.PLOTLYENV=window.PLOTLYENV || {};window.PLOTLYENV.BASE_URL=\"https://plot.ly\";Plotly.newPlot(\"a7277c1b-1750-437e-849e-98fd08f3bbb5\", [{\"cells\": {\"align\": [\"left\", \"left\", \"left\", \"left\", \"left\"], \"fill\": {\"color\": \"#F5F8FF\"}, \"values\": [[\"Sc\", \"Ti\", \"V\", \"Cr\"], [-0.7833, -0.7833, 0.2611, 1.3056], [-0.6869, -0.5204, -0.2706, 1.4779], [-1.1865, -0.4633, 0.9161, 0.7338], [-1.2533, -0.335, 0.6275, 0.9608], [-1.2081, -0.3637, 0.4917, 1.0801]]}, \"header\": {\"align\": [\"left\", \"left\", \"left\", \"left\", \"left\"], \"fill\": {\"color\": \"#C2D4FF\"}, \"values\": [\"Element\", \"Electrical Conductivity (10^6/cm ohm)\", \"Thermal Conductivity at 300K (W/cmK)\", \"Melting Point (K)\", \"Atomic Weight\", \"Density @ 293K (g/cm3)\"]}, \"type\": \"table\", \"uid\": \"b8893ae3-7fac-4415-95b3-820074c3bd24\"}], {}, {\"showLink\": false, \"linkText\": \"Export to plot.ly\", \"plotlyServerURL\": \"https://plot.ly\"})});</script><script type=\"text/javascript\">window.addEventListener(\"resize\", function(){window._Plotly.Plots.resize(document.getElementById(\"a7277c1b-1750-437e-849e-98fd08f3bbb5\"));});</script>"
      ],
      "text/vnd.plotly.v1+html": [
       "<div id=\"a7277c1b-1750-437e-849e-98fd08f3bbb5\" style=\"height: 525px; width: 100%;\" class=\"plotly-graph-div\"></div><script type=\"text/javascript\">require([\"plotly\"], function(Plotly) { window.PLOTLYENV=window.PLOTLYENV || {};window.PLOTLYENV.BASE_URL=\"https://plot.ly\";Plotly.newPlot(\"a7277c1b-1750-437e-849e-98fd08f3bbb5\", [{\"cells\": {\"align\": [\"left\", \"left\", \"left\", \"left\", \"left\"], \"fill\": {\"color\": \"#F5F8FF\"}, \"values\": [[\"Sc\", \"Ti\", \"V\", \"Cr\"], [-0.7833, -0.7833, 0.2611, 1.3056], [-0.6869, -0.5204, -0.2706, 1.4779], [-1.1865, -0.4633, 0.9161, 0.7338], [-1.2533, -0.335, 0.6275, 0.9608], [-1.2081, -0.3637, 0.4917, 1.0801]]}, \"header\": {\"align\": [\"left\", \"left\", \"left\", \"left\", \"left\"], \"fill\": {\"color\": \"#C2D4FF\"}, \"values\": [\"Element\", \"Electrical Conductivity (10^6/cm ohm)\", \"Thermal Conductivity at 300K (W/cmK)\", \"Melting Point (K)\", \"Atomic Weight\", \"Density @ 293K (g/cm3)\"]}, \"type\": \"table\", \"uid\": \"b8893ae3-7fac-4415-95b3-820074c3bd24\"}], {}, {\"showLink\": false, \"linkText\": \"Export to plot.ly\", \"plotlyServerURL\": \"https://plot.ly\"})});</script><script type=\"text/javascript\">window.addEventListener(\"resize\", function(){window._Plotly.Plots.resize(document.getElementById(\"a7277c1b-1750-437e-849e-98fd08f3bbb5\"));});</script>"
      ]
     },
     "metadata": {},
     "output_type": "display_data"
    }
   ],
   "source": [
    "# Calculate X \n",
    "X = (input_df - input_df.mean())/input_df.std()\n",
    "\n",
    "# Plot X\n",
    "iplot(plot_df(X.round(4)), filename = 'X_table')"
   ]
  },
  {
   "cell_type": "markdown",
   "metadata": {},
   "source": [
    "## Step 2: What is P?\n",
    "\n",
    "P, the loadings matrix, describes the correlation between the responses (columns of X). To calculate P, we first must calculate the correlation matrix of X. However, the calculation of the correlation matrix is only correct when using the population standard deviation. In the prior section, we calculated X using the sample standard deviation, as we have not collected all possible data. However, for calculating the correlation in the data, the assumption must be made that the correlation is being calculated on the entire data. Therefore, we define X<sub>Pop</sub>:"
   ]
  },
  {
   "cell_type": "code",
   "execution_count": 16,
   "metadata": {},
   "outputs": [
    {
     "data": {
      "application/vnd.plotly.v1+json": {
       "config": {
        "linkText": "Export to plot.ly",
        "plotlyServerURL": "https://plot.ly",
        "showLink": false
       },
       "data": [
        {
         "cells": {
          "align": [
           "left",
           "left",
           "left",
           "left",
           "left"
          ],
          "fill": {
           "color": "#F5F8FF"
          },
          "values": [
           [
            "Sc",
            "Ti",
            "V",
            "Cr"
           ],
           [
            -0.9045,
            -0.9045,
            0.3015,
            1.5076
           ],
           [
            -0.7932,
            -0.6009,
            -0.3125,
            1.7065
           ],
           [
            -1.37,
            -0.535,
            1.0578,
            0.8473
           ],
           [
            -1.4472,
            -0.3868,
            0.7245,
            1.1095
           ],
           [
            -1.395,
            -0.4199,
            0.5677,
            1.2471
           ]
          ]
         },
         "header": {
          "align": [
           "left",
           "left",
           "left",
           "left",
           "left"
          ],
          "fill": {
           "color": "#C2D4FF"
          },
          "values": [
           "Element",
           "Electrical Conductivity (10^6/cm ohm)",
           "Thermal Conductivity at 300K (W/cmK)",
           "Melting Point (K)",
           "Atomic Weight",
           "Density @ 293K (g/cm3)"
          ]
         },
         "type": "table",
         "uid": "b2a8ba2f-9112-44f8-b0a8-f37cf771439f"
        }
       ],
       "layout": {}
      },
      "text/html": [
       "<div id=\"b3c4bfa0-6894-4d99-a5e0-74419750d93a\" style=\"height: 525px; width: 100%;\" class=\"plotly-graph-div\"></div><script type=\"text/javascript\">require([\"plotly\"], function(Plotly) { window.PLOTLYENV=window.PLOTLYENV || {};window.PLOTLYENV.BASE_URL=\"https://plot.ly\";Plotly.newPlot(\"b3c4bfa0-6894-4d99-a5e0-74419750d93a\", [{\"cells\": {\"align\": [\"left\", \"left\", \"left\", \"left\", \"left\"], \"fill\": {\"color\": \"#F5F8FF\"}, \"values\": [[\"Sc\", \"Ti\", \"V\", \"Cr\"], [-0.9045, -0.9045, 0.3015, 1.5076], [-0.7932, -0.6009, -0.3125, 1.7065], [-1.37, -0.535, 1.0578, 0.8473], [-1.4472, -0.3868, 0.7245, 1.1095], [-1.395, -0.4199, 0.5677, 1.2471]]}, \"header\": {\"align\": [\"left\", \"left\", \"left\", \"left\", \"left\"], \"fill\": {\"color\": \"#C2D4FF\"}, \"values\": [\"Element\", \"Electrical Conductivity (10^6/cm ohm)\", \"Thermal Conductivity at 300K (W/cmK)\", \"Melting Point (K)\", \"Atomic Weight\", \"Density @ 293K (g/cm3)\"]}, \"type\": \"table\", \"uid\": \"cf6d3a9c-4ac0-43c8-b9e0-9c2d63ee8265\"}], {}, {\"showLink\": false, \"linkText\": \"Export to plot.ly\", \"plotlyServerURL\": \"https://plot.ly\"})});</script><script type=\"text/javascript\">window.addEventListener(\"resize\", function(){window._Plotly.Plots.resize(document.getElementById(\"b3c4bfa0-6894-4d99-a5e0-74419750d93a\"));});</script>"
      ],
      "text/vnd.plotly.v1+html": [
       "<div id=\"b3c4bfa0-6894-4d99-a5e0-74419750d93a\" style=\"height: 525px; width: 100%;\" class=\"plotly-graph-div\"></div><script type=\"text/javascript\">require([\"plotly\"], function(Plotly) { window.PLOTLYENV=window.PLOTLYENV || {};window.PLOTLYENV.BASE_URL=\"https://plot.ly\";Plotly.newPlot(\"b3c4bfa0-6894-4d99-a5e0-74419750d93a\", [{\"cells\": {\"align\": [\"left\", \"left\", \"left\", \"left\", \"left\"], \"fill\": {\"color\": \"#F5F8FF\"}, \"values\": [[\"Sc\", \"Ti\", \"V\", \"Cr\"], [-0.9045, -0.9045, 0.3015, 1.5076], [-0.7932, -0.6009, -0.3125, 1.7065], [-1.37, -0.535, 1.0578, 0.8473], [-1.4472, -0.3868, 0.7245, 1.1095], [-1.395, -0.4199, 0.5677, 1.2471]]}, \"header\": {\"align\": [\"left\", \"left\", \"left\", \"left\", \"left\"], \"fill\": {\"color\": \"#C2D4FF\"}, \"values\": [\"Element\", \"Electrical Conductivity (10^6/cm ohm)\", \"Thermal Conductivity at 300K (W/cmK)\", \"Melting Point (K)\", \"Atomic Weight\", \"Density @ 293K (g/cm3)\"]}, \"type\": \"table\", \"uid\": \"cf6d3a9c-4ac0-43c8-b9e0-9c2d63ee8265\"}], {}, {\"showLink\": false, \"linkText\": \"Export to plot.ly\", \"plotlyServerURL\": \"https://plot.ly\"})});</script><script type=\"text/javascript\">window.addEventListener(\"resize\", function(){window._Plotly.Plots.resize(document.getElementById(\"b3c4bfa0-6894-4d99-a5e0-74419750d93a\"));});</script>"
      ]
     },
     "metadata": {},
     "output_type": "display_data"
    }
   ],
   "source": [
    "# Plot XPop\n",
    "Xpop = (input_df - input_df.mean())/input_df.std(ddof = 0)\n",
    "iplot(plot_df(Xpop.round(4)), filename = 'pandas_table4')"
   ]
  },
  {
   "cell_type": "markdown",
   "metadata": {},
   "source": [
    "The correlation matrix is calculated for X<sub>Pop</sub>. If correlation is calculated on X instead of X<sub>Pop</sub>, the correlation matrix will have diagonal values not equal to unity, which is a requirement of the correlation matrix. The correlation matrix describes how variables change with respect to other variables (hence covariance instead of variance). The correlation between variables x and y can be thought of as the slope of a graph of x vs. y. If x=y then correlation = 1, if x=-y, then correlation = -1, if x=2y, then correlation = 0.5, and so on. This interpretation of correlation values will be useful when we interpret our final PCA results. Note, if you plot the variables of X versus each other, the points do not fall completely on a single line, and therefore the slope does not capture 100% of the correlation in the data. We will discuss how this impacts our analysis later on.\n",
    "\n",
    "The correlation matrix (which we will term C<sub>X</sub>) of X<sub>Pop</sub> is as follows:"
   ]
  },
  {
   "cell_type": "code",
   "execution_count": 17,
   "metadata": {},
   "outputs": [
    {
     "data": {
      "application/vnd.plotly.v1+json": {
       "config": {
        "linkText": "Export to plot.ly",
        "plotlyServerURL": "https://plot.ly",
        "showLink": false
       },
       "data": [
        {
         "cells": {
          "align": [
           "left",
           "left",
           "left",
           "left",
           "left"
          ],
          "fill": {
           "color": "#F5F8FF"
          },
          "values": [
           [
            "Electrical Conductivity (10^6/cm ohm)",
            "Thermal Conductivity at 300K (W/cmK)",
            "Melting Point (K)",
            "Atomic Weight",
            "Density @ 293K (g/cm3)"
           ],
           [
            1,
            0.9349,
            0.8299,
            0.8875,
            0.9232
           ],
           [
            0.9349,
            1,
            0.6309,
            0.7618,
            0.8274
           ],
           [
            0.8299,
            0.6309,
            1,
            0.974,
            0.9483
           ],
           [
            0.8875,
            0.7618,
            0.974,
            1,
            0.9941
           ],
           [
            0.9232,
            0.8274,
            0.9483,
            0.9941,
            1
           ]
          ]
         },
         "header": {
          "align": [
           "left",
           "left",
           "left",
           "left",
           "left"
          ],
          "fill": {
           "color": "#C2D4FF"
          },
          "values": [
           "index",
           "Electrical Conductivity (10^6/cm ohm)",
           "Thermal Conductivity at 300K (W/cmK)",
           "Melting Point (K)",
           "Atomic Weight",
           "Density @ 293K (g/cm3)"
          ]
         },
         "type": "table",
         "uid": "f42bd481-fabf-43d1-9850-5b883ffcb244"
        }
       ],
       "layout": {}
      },
      "text/html": [
       "<div id=\"b857c43b-4b9b-4482-bc5b-604cad64a14e\" style=\"height: 525px; width: 100%;\" class=\"plotly-graph-div\"></div><script type=\"text/javascript\">require([\"plotly\"], function(Plotly) { window.PLOTLYENV=window.PLOTLYENV || {};window.PLOTLYENV.BASE_URL=\"https://plot.ly\";Plotly.newPlot(\"b857c43b-4b9b-4482-bc5b-604cad64a14e\", [{\"cells\": {\"align\": [\"left\", \"left\", \"left\", \"left\", \"left\"], \"fill\": {\"color\": \"#F5F8FF\"}, \"values\": [[\"Electrical Conductivity (10^6/cm ohm)\", \"Thermal Conductivity at 300K (W/cmK)\", \"Melting Point (K)\", \"Atomic Weight\", \"Density @ 293K (g/cm3)\"], [1.0, 0.9349, 0.8299, 0.8875, 0.9232], [0.9349, 1.0, 0.6309, 0.7618, 0.8274], [0.8299, 0.6309, 1.0, 0.974, 0.9483], [0.8875, 0.7618, 0.974, 1.0, 0.9941], [0.9232, 0.8274, 0.9483, 0.9941, 1.0]]}, \"header\": {\"align\": [\"left\", \"left\", \"left\", \"left\", \"left\"], \"fill\": {\"color\": \"#C2D4FF\"}, \"values\": [\"index\", \"Electrical Conductivity (10^6/cm ohm)\", \"Thermal Conductivity at 300K (W/cmK)\", \"Melting Point (K)\", \"Atomic Weight\", \"Density @ 293K (g/cm3)\"]}, \"type\": \"table\", \"uid\": \"e44adee2-e0ca-4baf-af89-dbc2e7d2fe21\"}], {}, {\"showLink\": false, \"linkText\": \"Export to plot.ly\", \"plotlyServerURL\": \"https://plot.ly\"})});</script><script type=\"text/javascript\">window.addEventListener(\"resize\", function(){window._Plotly.Plots.resize(document.getElementById(\"b857c43b-4b9b-4482-bc5b-604cad64a14e\"));});</script>"
      ],
      "text/vnd.plotly.v1+html": [
       "<div id=\"b857c43b-4b9b-4482-bc5b-604cad64a14e\" style=\"height: 525px; width: 100%;\" class=\"plotly-graph-div\"></div><script type=\"text/javascript\">require([\"plotly\"], function(Plotly) { window.PLOTLYENV=window.PLOTLYENV || {};window.PLOTLYENV.BASE_URL=\"https://plot.ly\";Plotly.newPlot(\"b857c43b-4b9b-4482-bc5b-604cad64a14e\", [{\"cells\": {\"align\": [\"left\", \"left\", \"left\", \"left\", \"left\"], \"fill\": {\"color\": \"#F5F8FF\"}, \"values\": [[\"Electrical Conductivity (10^6/cm ohm)\", \"Thermal Conductivity at 300K (W/cmK)\", \"Melting Point (K)\", \"Atomic Weight\", \"Density @ 293K (g/cm3)\"], [1.0, 0.9349, 0.8299, 0.8875, 0.9232], [0.9349, 1.0, 0.6309, 0.7618, 0.8274], [0.8299, 0.6309, 1.0, 0.974, 0.9483], [0.8875, 0.7618, 0.974, 1.0, 0.9941], [0.9232, 0.8274, 0.9483, 0.9941, 1.0]]}, \"header\": {\"align\": [\"left\", \"left\", \"left\", \"left\", \"left\"], \"fill\": {\"color\": \"#C2D4FF\"}, \"values\": [\"index\", \"Electrical Conductivity (10^6/cm ohm)\", \"Thermal Conductivity at 300K (W/cmK)\", \"Melting Point (K)\", \"Atomic Weight\", \"Density @ 293K (g/cm3)\"]}, \"type\": \"table\", \"uid\": \"e44adee2-e0ca-4baf-af89-dbc2e7d2fe21\"}], {}, {\"showLink\": false, \"linkText\": \"Export to plot.ly\", \"plotlyServerURL\": \"https://plot.ly\"})});</script><script type=\"text/javascript\">window.addEventListener(\"resize\", function(){window._Plotly.Plots.resize(document.getElementById(\"b857c43b-4b9b-4482-bc5b-604cad64a14e\"));});</script>"
      ]
     },
     "metadata": {},
     "output_type": "display_data"
    }
   ],
   "source": [
    "# Calculate Cx\n",
    "Cx = Xpop.corr()\n",
    "\n",
    "# Plot Cx\n",
    "iplot(plot_df(Cx.round(4)), filename = 'Correlation matrix table')"
   ]
  },
  {
   "cell_type": "markdown",
   "metadata": {},
   "source": [
    "Note that the diagonal of C<sub>X</sub> is 1 (corr(x,x)=1). This is obvious as every point of a graph of x vs. x will fall exactly on a line of slope 1. If you do not have diagonal values of 1, then you have an error, and this error will be carried out through your analysis. A possible reason for this error is that the correlation is being calculated on a different matrix than X<sub>Pop</sub>, such as X, X<sub>input</sub> or X<sub>mean</sub>. Again, the reason for using the population standard deviation is that we make the assumption that the data in the matrix contains all possible data, as opposed to a representation of a limited portion. This assumption is necessary for this step calculation to perform.\n",
    "In all cases, corr(x,y) = corr(y,x). The reason is because:\n",
    "\n",
    "<Pre> Corr(x,y) = function[(X<sub>i</sub>-X<sub>mean</sub>)(Y<sub>i</sub>-Y<sub>mean</sub>)]                                               [2] </Pre>\n",
    "\n",
    "Therefore, switching X and Y makes no difference, as X\\*Y = Y\\*X. "
   ]
  },
  {
   "cell_type": "markdown",
   "metadata": {},
   "source": [
    "Note the dimensions of the matrix. While the dimensions for X were number of conditions and number of responses, the dimensions of Cx are number of conditions and number of conditions. This is important because the correlation matrix must be a square matrix. We will next take the eigenvalues and eigenvectors of this matrix, which is only possible with a square matrix.\n",
    "\n",
    "Eigenvectors are vectors of a matrix which remain the same after a transformation, while eigenvalues are the scaling of the vector after the transformation. We will not describe eigenvectors and eigenvalues further here, but will describe how to calculate them from the correlation matrix. You can easily extract eigenvalues and eigenvectors from numerous programs or online applets, but we will describe the logic in terms of matrices here.\n",
    "\n",
    "First, we will identify the eigenvalues of the correlation matrix. The number of eigenvalues is equal to the number of dimensions (in this example there are 5 eigenvalues). For the moment, we will calculate all five eigenvalues, but we will not necessarily use them all later on. We define the identity matrix (I), which has the same columns and rows as C<sub>X</sub>, and has diagonal values of 1, and all other values as 0.\n",
    "\n",
    "The eigenvalues are then defined as the values of λ for which the determinant of C<sub>X</sub>- λI =0. The eigenvector vi is then defined as the vector which makes the equation:<br>\n",
    "<pre>(C<sub>X</sub>- λ<sub>i</sub>I)*v<sub>i</sub> = 0                                                          [3] </pre>\n",
    "        \n",
    "\n",
    "Using Numpy's linalg function, we find the five eigenvalues (Determinant=0) as well as the eigenvectors corresponding to the eigenvalues. Note: in this, the rows correspond to the columns of X, while the columns are the different PCs, ordered by eigenvalue. This matrix of the eigenvectors, with the order of PCs determined by the eigenvalues, is matrix P in equation 1."
   ]
  },
  {
   "cell_type": "code",
   "execution_count": 18,
   "metadata": {},
   "outputs": [
    {
     "data": {
      "application/vnd.plotly.v1+json": {
       "config": {
        "linkText": "Export to plot.ly",
        "plotlyServerURL": "https://plot.ly",
        "showLink": false
       },
       "data": [
        {
         "cells": {
          "align": [
           "left",
           "left",
           "left",
           "left",
           "left"
          ],
          "fill": {
           "color": "#F5F8FF"
          },
          "values": [
           [
            "Electrical Conductivity (10^6/cm ohm)",
            "Thermal Conductivity at 300K (W/cmK)",
            "Melting Point (K)",
            "Atomic Weight",
            "Density @ 293K (g/cm3)"
           ],
           [
            -0.455,
            -0.412,
            -0.438,
            -0.461,
            -0.468
           ],
           [
            -0.313,
            -0.712,
            0.538,
            0.295,
            0.137
           ],
           [
            -0.719,
            0.291,
            -0.331,
            0.357,
            0.402
           ],
           [
            -0.347,
            0.331,
            0.552,
            -0.658,
            0.178
           ],
           [
            0.108,
            -0.227,
            -0.118,
            -0.574,
            0.77
           ]
          ]
         },
         "header": {
          "align": [
           "left",
           "left",
           "left",
           "left",
           "left"
          ],
          "fill": {
           "color": "#C2D4FF"
          },
          "values": [
           "index",
           "PC1",
           "PC2",
           "PC3",
           "PC4",
           "PC5"
          ]
         },
         "type": "table",
         "uid": "8773a92c-98a1-4056-b467-a9167e8ff143"
        }
       ],
       "layout": {}
      },
      "text/html": [
       "<div id=\"97b62c91-5f67-4614-bbe0-46b827af8fde\" style=\"height: 525px; width: 100%;\" class=\"plotly-graph-div\"></div><script type=\"text/javascript\">require([\"plotly\"], function(Plotly) { window.PLOTLYENV=window.PLOTLYENV || {};window.PLOTLYENV.BASE_URL=\"https://plot.ly\";Plotly.newPlot(\"97b62c91-5f67-4614-bbe0-46b827af8fde\", [{\"cells\": {\"align\": [\"left\", \"left\", \"left\", \"left\", \"left\"], \"fill\": {\"color\": \"#F5F8FF\"}, \"values\": [[\"Electrical Conductivity (10^6/cm ohm)\", \"Thermal Conductivity at 300K (W/cmK)\", \"Melting Point (K)\", \"Atomic Weight\", \"Density @ 293K (g/cm3)\"], [-0.455, -0.412, -0.438, -0.461, -0.468], [-0.313, -0.712, 0.538, 0.295, 0.137], [-0.719, 0.291, -0.331, 0.357, 0.402], [-0.347, 0.331, 0.552, -0.658, 0.178], [0.108, -0.227, -0.118, -0.574, 0.77]]}, \"header\": {\"align\": [\"left\", \"left\", \"left\", \"left\", \"left\"], \"fill\": {\"color\": \"#C2D4FF\"}, \"values\": [\"index\", \"PC1\", \"PC2\", \"PC3\", \"PC4\", \"PC5\"]}, \"type\": \"table\", \"uid\": \"9cc232f4-b7a3-4883-841f-4ec4884cb0c8\"}], {}, {\"showLink\": false, \"linkText\": \"Export to plot.ly\", \"plotlyServerURL\": \"https://plot.ly\"})});</script><script type=\"text/javascript\">window.addEventListener(\"resize\", function(){window._Plotly.Plots.resize(document.getElementById(\"97b62c91-5f67-4614-bbe0-46b827af8fde\"));});</script>"
      ],
      "text/vnd.plotly.v1+html": [
       "<div id=\"97b62c91-5f67-4614-bbe0-46b827af8fde\" style=\"height: 525px; width: 100%;\" class=\"plotly-graph-div\"></div><script type=\"text/javascript\">require([\"plotly\"], function(Plotly) { window.PLOTLYENV=window.PLOTLYENV || {};window.PLOTLYENV.BASE_URL=\"https://plot.ly\";Plotly.newPlot(\"97b62c91-5f67-4614-bbe0-46b827af8fde\", [{\"cells\": {\"align\": [\"left\", \"left\", \"left\", \"left\", \"left\"], \"fill\": {\"color\": \"#F5F8FF\"}, \"values\": [[\"Electrical Conductivity (10^6/cm ohm)\", \"Thermal Conductivity at 300K (W/cmK)\", \"Melting Point (K)\", \"Atomic Weight\", \"Density @ 293K (g/cm3)\"], [-0.455, -0.412, -0.438, -0.461, -0.468], [-0.313, -0.712, 0.538, 0.295, 0.137], [-0.719, 0.291, -0.331, 0.357, 0.402], [-0.347, 0.331, 0.552, -0.658, 0.178], [0.108, -0.227, -0.118, -0.574, 0.77]]}, \"header\": {\"align\": [\"left\", \"left\", \"left\", \"left\", \"left\"], \"fill\": {\"color\": \"#C2D4FF\"}, \"values\": [\"index\", \"PC1\", \"PC2\", \"PC3\", \"PC4\", \"PC5\"]}, \"type\": \"table\", \"uid\": \"9cc232f4-b7a3-4883-841f-4ec4884cb0c8\"}], {}, {\"showLink\": false, \"linkText\": \"Export to plot.ly\", \"plotlyServerURL\": \"https://plot.ly\"})});</script><script type=\"text/javascript\">window.addEventListener(\"resize\", function(){window._Plotly.Plots.resize(document.getElementById(\"97b62c91-5f67-4614-bbe0-46b827af8fde\"));});</script>"
      ]
     },
     "metadata": {},
     "output_type": "display_data"
    }
   ],
   "source": [
    "eig_vals, eig_vecs = np.linalg.eig(Cx)\n",
    "\n",
    "P = pd.DataFrame(eig_vecs, index = ['Electrical Conductivity (10^6/cm ohm)',\n",
    "                                'Thermal Conductivity at 300K (W/cmK)', \n",
    "                                'Melting Point (K)',\n",
    "                                'Atomic Weight',\n",
    "                                'Density @ 293K (g/cm3)'], columns = ['PC1','PC2','PC3','PC4','PC5'])\n",
    "P_round = P.round(3)\n",
    "\n",
    "trace = go.Table(header = dict(values = list(P_round.reset_index().columns),\n",
    "                        fill = dict(color='#C2D4FF'),\n",
    "                        align = ['left'] * 5),    \n",
    "                    cells = dict(values = [P_round.index,\n",
    "                        P_round['PC1'],\n",
    "                        P_round['PC2'],\n",
    "                        P_round['PC3'],\n",
    "                        P_round['PC4'],\n",
    "                        P_round['PC5']],\n",
    "                        fill = dict(color='#F5F8FF'),\n",
    "                        align = ['left'] * 5))\n",
    "\n",
    "iplot([trace], filename = 'eigen_vectors_table')"
   ]
  },
  {
   "cell_type": "code",
   "execution_count": 19,
   "metadata": {},
   "outputs": [
    {
     "name": "stdout",
     "output_type": "stream",
     "text": [
      "Eigenvalues in descending order:\n",
      "4.493\n",
      "0.459\n",
      "0.048\n",
      "0.000\n",
      "0.000\n"
     ]
    }
   ],
   "source": [
    "# Plot the eigenvalues \n",
    "# Source code: https://plot.ly/ipython-notebooks/principal-component-analysis/\n",
    "# Make a list of (eigenvalue, eigenvector) tuples\n",
    "eig_pairs = [(np.abs(eig_vals[i]), eig_vecs[:,i]) for i in range(len(eig_vals))]\n",
    "\n",
    "# Sort the (eigenvalue, eigenvector) tuples from high to low\n",
    "eig_pairs.sort()\n",
    "eig_pairs.reverse()\n",
    "\n",
    "# Visually confirm that the list is correctly sorted by decreasing eigenvalues\n",
    "np.set_printoptions(precision =3, suppress = True)\n",
    "print('Eigenvalues in descending order:')\n",
    "for i in eig_pairs:\n",
    "    print(\"%.3f\"%i[0])"
   ]
  },
  {
   "cell_type": "markdown",
   "metadata": {},
   "source": [
    "Note, there are only three non-zero eigenvalues. Each eigenvalue, and the corresponding eigenvector, represent a Principal Component (PC). We rank the eignvalues in terms of value, so that the largest eigenvalue corresponds to PC1, the second largest eigenvalue corresponds to PC2, and so on. So effectively, for this data there are only three PCs. The explained variance captured by different PC is equal to that respective eigenvalue divided by the sum of all eigenvalues. "
   ]
  },
  {
   "cell_type": "code",
   "execution_count": 20,
   "metadata": {},
   "outputs": [
    {
     "data": {
      "application/vnd.plotly.v1+json": {
       "config": {
        "linkText": "Export to plot.ly",
        "plotlyServerURL": "https://plot.ly",
        "showLink": false
       },
       "data": [
        {
         "name": "Individual",
         "type": "scatter",
         "uid": "48c4c70d-4603-494d-8b17-03ac26e7d9ad",
         "x": [
          "PC 1",
          "PC 2",
          "PC 3",
          "PC 4",
          "PC 5"
         ],
         "y": [
          89.87,
          9.17,
          0.96,
          0,
          0
         ]
        },
        {
         "name": "Cumulative",
         "type": "scatter",
         "uid": "0837f63f-c01f-4221-ab6d-813e671601cf",
         "x": [
          "PC 1",
          "PC 2",
          "PC 3",
          "PC 4",
          "PC 5"
         ],
         "y": [
          89.87,
          99.04,
          100,
          100,
          100
         ]
        }
       ],
       "layout": {
        "annotations": [
         {
          "showarrow": false,
          "text": "Explained Variance",
          "x": 1.16,
          "xref": "paper",
          "y": 1.05,
          "yref": "paper"
         }
        ],
        "title": {
         "text": "Explained variance by different principal components"
        },
        "yaxis": {
         "title": {
          "text": "Explained variance in percent"
         }
        }
       }
      },
      "text/html": [
       "<div id=\"8e762b46-cab5-46b7-a781-21f2c3aa7971\" style=\"height: 525px; width: 100%;\" class=\"plotly-graph-div\"></div><script type=\"text/javascript\">require([\"plotly\"], function(Plotly) { window.PLOTLYENV=window.PLOTLYENV || {};window.PLOTLYENV.BASE_URL=\"https://plot.ly\";Plotly.newPlot(\"8e762b46-cab5-46b7-a781-21f2c3aa7971\", [{\"name\": \"Individual\", \"x\": [\"PC 1\", \"PC 2\", \"PC 3\", \"PC 4\", \"PC 5\"], \"y\": [89.87, 9.17, 0.96, 0.0, -0.0], \"type\": \"scatter\", \"uid\": \"504d1335-c7aa-4278-9b0c-bb769842065e\"}, {\"name\": \"Cumulative\", \"x\": [\"PC 1\", \"PC 2\", \"PC 3\", \"PC 4\", \"PC 5\"], \"y\": [89.87, 99.04, 100.0, 100.0, 100.0], \"type\": \"scatter\", \"uid\": \"6efe7186-7d1d-4207-8473-6ced30462eba\"}], {\"annotations\": [{\"showarrow\": false, \"text\": \"Explained Variance\", \"x\": 1.16, \"xref\": \"paper\", \"y\": 1.05, \"yref\": \"paper\"}], \"title\": {\"text\": \"Explained variance by different principal components\"}, \"yaxis\": {\"title\": {\"text\": \"Explained variance in percent\"}}}, {\"showLink\": false, \"linkText\": \"Export to plot.ly\", \"plotlyServerURL\": \"https://plot.ly\"})});</script><script type=\"text/javascript\">window.addEventListener(\"resize\", function(){window._Plotly.Plots.resize(document.getElementById(\"8e762b46-cab5-46b7-a781-21f2c3aa7971\"));});</script>"
      ],
      "text/vnd.plotly.v1+html": [
       "<div id=\"8e762b46-cab5-46b7-a781-21f2c3aa7971\" style=\"height: 525px; width: 100%;\" class=\"plotly-graph-div\"></div><script type=\"text/javascript\">require([\"plotly\"], function(Plotly) { window.PLOTLYENV=window.PLOTLYENV || {};window.PLOTLYENV.BASE_URL=\"https://plot.ly\";Plotly.newPlot(\"8e762b46-cab5-46b7-a781-21f2c3aa7971\", [{\"name\": \"Individual\", \"x\": [\"PC 1\", \"PC 2\", \"PC 3\", \"PC 4\", \"PC 5\"], \"y\": [89.87, 9.17, 0.96, 0.0, -0.0], \"type\": \"scatter\", \"uid\": \"504d1335-c7aa-4278-9b0c-bb769842065e\"}, {\"name\": \"Cumulative\", \"x\": [\"PC 1\", \"PC 2\", \"PC 3\", \"PC 4\", \"PC 5\"], \"y\": [89.87, 99.04, 100.0, 100.0, 100.0], \"type\": \"scatter\", \"uid\": \"6efe7186-7d1d-4207-8473-6ced30462eba\"}], {\"annotations\": [{\"showarrow\": false, \"text\": \"Explained Variance\", \"x\": 1.16, \"xref\": \"paper\", \"y\": 1.05, \"yref\": \"paper\"}], \"title\": {\"text\": \"Explained variance by different principal components\"}, \"yaxis\": {\"title\": {\"text\": \"Explained variance in percent\"}}}, {\"showLink\": false, \"linkText\": \"Export to plot.ly\", \"plotlyServerURL\": \"https://plot.ly\"})});</script><script type=\"text/javascript\">window.addEventListener(\"resize\", function(){window._Plotly.Plots.resize(document.getElementById(\"8e762b46-cab5-46b7-a781-21f2c3aa7971\"));});</script>"
      ]
     },
     "metadata": {},
     "output_type": "display_data"
    }
   ],
   "source": [
    "# Plot the explained variance captured by different PC\n",
    "# Source code: https://plot.ly/ipython-notebooks/principal-component-analysis/\n",
    "tot = sum(eig_vals)\n",
    "var_exp = [(i / tot)*100 for i in sorted(eig_vals, reverse=True)]\n",
    "var_exp_round = np.around(var_exp, decimals = 2)\n",
    "cum_var_exp = np.cumsum(var_exp)\n",
    "cum_var_exp_round = np.around(cum_var_exp, decimals = 2)\n",
    "\n",
    "trace1 = dict(\n",
    "    type='scatter',\n",
    "    x=['PC %s' %i for i in range(1,6)],\n",
    "    y=var_exp_round,\n",
    "    name='Individual'\n",
    ")\n",
    "\n",
    "trace2 = dict(\n",
    "    type='scatter',\n",
    "    x=['PC %s' %i for i in range(1,6)], \n",
    "    y=cum_var_exp_round,\n",
    "    name='Cumulative'\n",
    ")\n",
    "data = [trace1, trace2]\n",
    "\n",
    "layout=dict(\n",
    "    title='Explained variance by different principal components',\n",
    "    yaxis=dict(\n",
    "        title='Explained variance in percent'\n",
    "    ),\n",
    "    annotations=list([\n",
    "        dict(\n",
    "            x=1.16,\n",
    "            y=1.05,\n",
    "            xref='paper',\n",
    "            yref='paper',\n",
    "            text='Explained Variance',\n",
    "            showarrow=False,\n",
    "        )\n",
    "    ])\n",
    ")\n",
    "\n",
    "fig = dict(data=data, layout=layout)\n",
    "iplot(fig, filename='selecting-principal-components')"
   ]
  },
  {
   "cell_type": "markdown",
   "metadata": {},
   "source": [
    "Thus, for this data PC1 captures 89.86% of the variance of the data and PC1+PC2 capture 99.04% of the variance. The use of PCA for dimensionality reduction now becomes clear, as three PCs capture the same information as the five dimensions of X<Sub>input</Sub>. The plot of eigenvalue versus PC is referred to as a ‘scree plot’. This plot will become useful in the upcoming section “What is E?”."
   ]
  },
  {
   "cell_type": "markdown",
   "metadata": {},
   "source": [
    "## Step 3: What is T?\n",
    "\n",
    "To understand the calculation of T, we first must better understand the loadings matrix (P). P defines a series of new axes which are a linear combination of the variables, ranked to maximize the information captured. Each axis is then defined as the variables times the eigenvectors, so that the first axis is v1 times variables. Thus the first axis capturing 89.86% of the information and second axis capturing 9.18% of the variance in the data is: \n",
    "\n",
    "PC1 = -0.455 Electrical cond - 0.412 Thermal cond – 0.438 T<sub>m</sub> - 0.461 At. Wt. - 0.468 Density \n",
    " \n",
    "PC2 = -0.313 Electrical cond - 0.712 Thermal cond + 0.538 T<sub>m</sub> + 0.295 At. Wt. + 0.137 Density \n",
    "\n",
    "The scores matrix then becomes the plotting of the original data in this new space. As opposed to the normal plotting of variable 1 vs. variable 2, which captures a proportional amount of variance in the data, we now plot a combination of all variables vs. another combination of all variables, which captures a very significant amount of the variance in the data. The scores matrix (T) is then simply the plotting of the variable data (X) times the loadings matrix (P). This is clear from equation 1, with us ignoring E for the moment. The reason we are multiplying X and P is that equation 1 uses the transpose of P, and thus dividing X by the transpose of P is equivalent to multiplying X and P. Note, we are using X as defined in step 1, and not X<sub>Pop</sub> which we used in step 2."
   ]
  },
  {
   "cell_type": "code",
   "execution_count": 21,
   "metadata": {},
   "outputs": [
    {
     "data": {
      "application/vnd.plotly.v1+json": {
       "config": {
        "linkText": "Export to plot.ly",
        "plotlyServerURL": "https://plot.ly",
        "showLink": false
       },
       "data": [
        {
         "cells": {
          "align": [
           "left",
           "left",
           "left",
           "left",
           "left"
          ],
          "fill": {
           "color": "#F5F8FF"
          },
          "values": [
           [
            "Sc",
            "Ti",
            "V",
            "Cr"
           ],
           [
            2.302,
            1.098,
            -0.928,
            -2.473
           ],
           [
            -0.44,
            0.217,
            0.856,
            -0.634
           ],
           [
            -0.176,
            0.3,
            -0.148,
            0.025
           ],
           [
            0,
            0,
            0,
            0
           ],
           [
            0,
            0,
            0,
            0
           ]
          ]
         },
         "header": {
          "align": [
           "left",
           "left",
           "left",
           "left",
           "left"
          ],
          "fill": {
           "color": "#C2D4FF"
          },
          "values": [
           "Element",
           "PC1",
           "PC2",
           "PC3",
           "PC4",
           "PC5"
          ]
         },
         "type": "table",
         "uid": "14edafeb-fdfa-42d4-8d90-9a923be3f7c0"
        }
       ],
       "layout": {}
      },
      "text/html": [
       "<div id=\"81be93bf-4c05-4cf8-8f9a-94670e612fb0\" style=\"height: 525px; width: 100%;\" class=\"plotly-graph-div\"></div><script type=\"text/javascript\">require([\"plotly\"], function(Plotly) { window.PLOTLYENV=window.PLOTLYENV || {};window.PLOTLYENV.BASE_URL=\"https://plot.ly\";Plotly.newPlot(\"81be93bf-4c05-4cf8-8f9a-94670e612fb0\", [{\"cells\": {\"align\": [\"left\", \"left\", \"left\", \"left\", \"left\"], \"fill\": {\"color\": \"#F5F8FF\"}, \"values\": [[\"Sc\", \"Ti\", \"V\", \"Cr\"], [2.302, 1.098, -0.928, -2.473], [-0.44, 0.217, 0.856, -0.634], [-0.176, 0.3, -0.148, 0.025], [0.0, -0.0, 0.0, 0.0], [0.0, -0.0, 0.0, -0.0]]}, \"header\": {\"align\": [\"left\", \"left\", \"left\", \"left\", \"left\"], \"fill\": {\"color\": \"#C2D4FF\"}, \"values\": [\"Element\", \"PC1\", \"PC2\", \"PC3\", \"PC4\", \"PC5\"]}, \"type\": \"table\", \"uid\": \"37972022-bd84-4af5-89bf-44f9751f6e3a\"}], {}, {\"showLink\": false, \"linkText\": \"Export to plot.ly\", \"plotlyServerURL\": \"https://plot.ly\"})});</script><script type=\"text/javascript\">window.addEventListener(\"resize\", function(){window._Plotly.Plots.resize(document.getElementById(\"81be93bf-4c05-4cf8-8f9a-94670e612fb0\"));});</script>"
      ],
      "text/vnd.plotly.v1+html": [
       "<div id=\"81be93bf-4c05-4cf8-8f9a-94670e612fb0\" style=\"height: 525px; width: 100%;\" class=\"plotly-graph-div\"></div><script type=\"text/javascript\">require([\"plotly\"], function(Plotly) { window.PLOTLYENV=window.PLOTLYENV || {};window.PLOTLYENV.BASE_URL=\"https://plot.ly\";Plotly.newPlot(\"81be93bf-4c05-4cf8-8f9a-94670e612fb0\", [{\"cells\": {\"align\": [\"left\", \"left\", \"left\", \"left\", \"left\"], \"fill\": {\"color\": \"#F5F8FF\"}, \"values\": [[\"Sc\", \"Ti\", \"V\", \"Cr\"], [2.302, 1.098, -0.928, -2.473], [-0.44, 0.217, 0.856, -0.634], [-0.176, 0.3, -0.148, 0.025], [0.0, -0.0, 0.0, 0.0], [0.0, -0.0, 0.0, -0.0]]}, \"header\": {\"align\": [\"left\", \"left\", \"left\", \"left\", \"left\"], \"fill\": {\"color\": \"#C2D4FF\"}, \"values\": [\"Element\", \"PC1\", \"PC2\", \"PC3\", \"PC4\", \"PC5\"]}, \"type\": \"table\", \"uid\": \"37972022-bd84-4af5-89bf-44f9751f6e3a\"}], {}, {\"showLink\": false, \"linkText\": \"Export to plot.ly\", \"plotlyServerURL\": \"https://plot.ly\"})});</script><script type=\"text/javascript\">window.addEventListener(\"resize\", function(){window._Plotly.Plots.resize(document.getElementById(\"81be93bf-4c05-4cf8-8f9a-94670e612fb0\"));});</script>"
      ]
     },
     "metadata": {},
     "output_type": "display_data"
    }
   ],
   "source": [
    "T = X.dot(P)\n",
    "T_round = T.round(3)\n",
    "\n",
    "trace = go.Table(header = dict(values = list(T_round.reset_index().columns),\n",
    "                        fill = dict(color='#C2D4FF'),\n",
    "                        align = ['left'] * 5),    \n",
    "                        cells = dict(values = [T_round.index,\n",
    "                                           T_round['PC1'],\n",
    "                                           T_round['PC2'],\n",
    "                                           T_round['PC3'],\n",
    "                                           T_round['PC4'],\n",
    "                                           T_round['PC5']],\n",
    "                        fill = dict(color='#F5F8FF'),\n",
    "                        align = ['left'] * 5))\n",
    "iplot([trace], filename = 'T_table')\n",
    "\n"
   ]
  },
  {
   "cell_type": "markdown",
   "metadata": {},
   "source": [
    "The matrix above is then T in equation 1.\n",
    "\n",
    "If you are not getting these values, verify that you are using the preprocessed data X, as opposed to the non-standardized data. Note that the dimensions of this matrix are the conditions versus the number of PCs, while P had dimensions of responses versus number of PCs. Therefore, T*P<sup>T</sup> has dimensions of conditions versus responses, which matches the dimensions of X. The number of columns (PCs) for both T and P must be the same. The columns of T and P are important when we interpret the results. The values in this matrix T, are the variable values for these new variables.\n",
    "\n",
    "It is possible that you can have the opposite signs in some rows or columns of P and T. As we will discuss in the interpretation section, the results are considered relative. Therefore, if every entry in a column of P is multiplied by negative 1, the interpretations will not have changed, assuming that the signs of that column in T also changed sign accordingly."
   ]
  },
  {
   "cell_type": "markdown",
   "metadata": {},
   "source": [
    "## Step 4: What is E?\n",
    "\n",
    "Up to this point, we have ignored the residual matrix (E). Often in PC analyses, there is no need to define E, and to define T and P as we have here. However, in noise analyses or noise reduction, uncertainty analyses, or error measurements, the definition of E is important. Additionally, when advancing to predictive techniques such as partial least squares (PLS) which build on PCA, the definition of E is critical. To calculate E, we first must revisit the eigenvalues and skree plot that we calculated in step 2.\n",
    "\n",
    "As discussed, the number of PCs is equal to the number of variables. However, not all PCs provide useful information. We will now select how many PCs are physically significant. There are two general rules-of-thumb for selecting the number of PCs. First, is to select the number of PCs such as that greater than 90% of the variance of the data is captured. Second, is to select the PCs up to the elbow of the scree plot. That is, to select a value of PC up until the scree plot becomes significantly more horizontal. Beyond this point, the data becomes primarily noise. As an aside, this separation of noise has significant implications for PLS then because the regressions are being performed on only physically significant data.\n",
    "\n",
    "Based on both of these criteria, we identify two PCs as the optimal number. Thus, the scores (T) and loadings (P) matrices will include only two PCs, instead of five as we previously showed. The final scores and loadings matrices are thus shown as follows:"
   ]
  },
  {
   "cell_type": "code",
   "execution_count": 22,
   "metadata": {},
   "outputs": [
    {
     "data": {
      "application/vnd.plotly.v1+json": {
       "config": {
        "linkText": "Export to plot.ly",
        "plotlyServerURL": "https://plot.ly",
        "showLink": false
       },
       "data": [
        {
         "cells": {
          "align": [
           "left",
           "left",
           "left",
           "left",
           "left"
          ],
          "fill": {
           "color": "#F5F8FF"
          },
          "values": [
           [
            "Sc",
            "Ti",
            "V",
            "Cr"
           ],
           [
            2.302,
            1.098,
            -0.928,
            -2.473
           ],
           [
            -0.44,
            0.217,
            0.856,
            -0.634
           ]
          ]
         },
         "header": {
          "align": [
           "left",
           "left",
           "left",
           "left",
           "left"
          ],
          "fill": {
           "color": "#C2D4FF"
          },
          "values": [
           "Element",
           "PC1",
           "PC2"
          ]
         },
         "type": "table",
         "uid": "dc4bf6e0-5010-45b1-96a0-ac7f966cfd42"
        }
       ],
       "layout": {}
      },
      "text/html": [
       "<div id=\"bb127fb2-4f41-4ff1-87b8-1bb1ba86b1d9\" style=\"height: 525px; width: 100%;\" class=\"plotly-graph-div\"></div><script type=\"text/javascript\">require([\"plotly\"], function(Plotly) { window.PLOTLYENV=window.PLOTLYENV || {};window.PLOTLYENV.BASE_URL=\"https://plot.ly\";Plotly.newPlot(\"bb127fb2-4f41-4ff1-87b8-1bb1ba86b1d9\", [{\"cells\": {\"align\": [\"left\", \"left\", \"left\", \"left\", \"left\"], \"fill\": {\"color\": \"#F5F8FF\"}, \"values\": [[\"Sc\", \"Ti\", \"V\", \"Cr\"], [2.302, 1.098, -0.928, -2.473], [-0.44, 0.217, 0.856, -0.634]]}, \"header\": {\"align\": [\"left\", \"left\", \"left\", \"left\", \"left\"], \"fill\": {\"color\": \"#C2D4FF\"}, \"values\": [\"Element\", \"PC1\", \"PC2\"]}, \"type\": \"table\", \"uid\": \"d78aefac-a5cd-410a-87d2-d8ce2fd66b4a\"}], {}, {\"showLink\": false, \"linkText\": \"Export to plot.ly\", \"plotlyServerURL\": \"https://plot.ly\"})});</script><script type=\"text/javascript\">window.addEventListener(\"resize\", function(){window._Plotly.Plots.resize(document.getElementById(\"bb127fb2-4f41-4ff1-87b8-1bb1ba86b1d9\"));});</script>"
      ],
      "text/vnd.plotly.v1+html": [
       "<div id=\"bb127fb2-4f41-4ff1-87b8-1bb1ba86b1d9\" style=\"height: 525px; width: 100%;\" class=\"plotly-graph-div\"></div><script type=\"text/javascript\">require([\"plotly\"], function(Plotly) { window.PLOTLYENV=window.PLOTLYENV || {};window.PLOTLYENV.BASE_URL=\"https://plot.ly\";Plotly.newPlot(\"bb127fb2-4f41-4ff1-87b8-1bb1ba86b1d9\", [{\"cells\": {\"align\": [\"left\", \"left\", \"left\", \"left\", \"left\"], \"fill\": {\"color\": \"#F5F8FF\"}, \"values\": [[\"Sc\", \"Ti\", \"V\", \"Cr\"], [2.302, 1.098, -0.928, -2.473], [-0.44, 0.217, 0.856, -0.634]]}, \"header\": {\"align\": [\"left\", \"left\", \"left\", \"left\", \"left\"], \"fill\": {\"color\": \"#C2D4FF\"}, \"values\": [\"Element\", \"PC1\", \"PC2\"]}, \"type\": \"table\", \"uid\": \"d78aefac-a5cd-410a-87d2-d8ce2fd66b4a\"}], {}, {\"showLink\": false, \"linkText\": \"Export to plot.ly\", \"plotlyServerURL\": \"https://plot.ly\"})});</script><script type=\"text/javascript\">window.addEventListener(\"resize\", function(){window._Plotly.Plots.resize(document.getElementById(\"bb127fb2-4f41-4ff1-87b8-1bb1ba86b1d9\"));});</script>"
      ]
     },
     "metadata": {},
     "output_type": "display_data"
    }
   ],
   "source": [
    "T = T.drop(columns = ['PC3','PC4','PC5'])\n",
    "T_round = T.round(3)\n",
    "trace = go.Table(header = dict(values = list(T_round.reset_index().columns),\n",
    "                        fill = dict(color='#C2D4FF'),\n",
    "                        align = ['left'] * 5),    \n",
    "                        cells = dict(values = [T_round.index,\n",
    "                                           T_round['PC1'],\n",
    "                                           T_round['PC2']],\n",
    "                        fill = dict(color='#F5F8FF'),\n",
    "                        align = ['left'] * 5))\n",
    "iplot([trace], filename = 'T_table_final')"
   ]
  },
  {
   "cell_type": "code",
   "execution_count": 23,
   "metadata": {},
   "outputs": [
    {
     "data": {
      "application/vnd.plotly.v1+json": {
       "config": {
        "linkText": "Export to plot.ly",
        "plotlyServerURL": "https://plot.ly",
        "showLink": false
       },
       "data": [
        {
         "cells": {
          "align": [
           "left",
           "left",
           "left",
           "left",
           "left"
          ],
          "fill": {
           "color": "#F5F8FF"
          },
          "values": [
           [
            "Electrical Conductivity (10^6/cm ohm)",
            "Thermal Conductivity at 300K (W/cmK)",
            "Melting Point (K)",
            "Atomic Weight",
            "Density @ 293K (g/cm3)"
           ],
           [
            -0.455,
            -0.412,
            -0.438,
            -0.461,
            -0.468
           ],
           [
            -0.313,
            -0.712,
            0.538,
            0.295,
            0.137
           ]
          ]
         },
         "header": {
          "align": [
           "left",
           "left",
           "left",
           "left",
           "left"
          ],
          "fill": {
           "color": "#C2D4FF"
          },
          "values": [
           "index",
           "PC1",
           "PC2"
          ]
         },
         "type": "table",
         "uid": "bc4102ab-cbb1-469c-be02-212870251ee5"
        }
       ],
       "layout": {}
      },
      "text/html": [
       "<div id=\"8b623eb6-4f63-4129-9a0f-5bb86241cb4f\" style=\"height: 525px; width: 100%;\" class=\"plotly-graph-div\"></div><script type=\"text/javascript\">require([\"plotly\"], function(Plotly) { window.PLOTLYENV=window.PLOTLYENV || {};window.PLOTLYENV.BASE_URL=\"https://plot.ly\";Plotly.newPlot(\"8b623eb6-4f63-4129-9a0f-5bb86241cb4f\", [{\"cells\": {\"align\": [\"left\", \"left\", \"left\", \"left\", \"left\"], \"fill\": {\"color\": \"#F5F8FF\"}, \"values\": [[\"Electrical Conductivity (10^6/cm ohm)\", \"Thermal Conductivity at 300K (W/cmK)\", \"Melting Point (K)\", \"Atomic Weight\", \"Density @ 293K (g/cm3)\"], [-0.455, -0.412, -0.438, -0.461, -0.468], [-0.313, -0.712, 0.538, 0.295, 0.137]]}, \"header\": {\"align\": [\"left\", \"left\", \"left\", \"left\", \"left\"], \"fill\": {\"color\": \"#C2D4FF\"}, \"values\": [\"index\", \"PC1\", \"PC2\"]}, \"type\": \"table\", \"uid\": \"271f8ac6-b7c5-4a67-9433-963163cf90a1\"}], {}, {\"showLink\": false, \"linkText\": \"Export to plot.ly\", \"plotlyServerURL\": \"https://plot.ly\"})});</script><script type=\"text/javascript\">window.addEventListener(\"resize\", function(){window._Plotly.Plots.resize(document.getElementById(\"8b623eb6-4f63-4129-9a0f-5bb86241cb4f\"));});</script>"
      ],
      "text/vnd.plotly.v1+html": [
       "<div id=\"8b623eb6-4f63-4129-9a0f-5bb86241cb4f\" style=\"height: 525px; width: 100%;\" class=\"plotly-graph-div\"></div><script type=\"text/javascript\">require([\"plotly\"], function(Plotly) { window.PLOTLYENV=window.PLOTLYENV || {};window.PLOTLYENV.BASE_URL=\"https://plot.ly\";Plotly.newPlot(\"8b623eb6-4f63-4129-9a0f-5bb86241cb4f\", [{\"cells\": {\"align\": [\"left\", \"left\", \"left\", \"left\", \"left\"], \"fill\": {\"color\": \"#F5F8FF\"}, \"values\": [[\"Electrical Conductivity (10^6/cm ohm)\", \"Thermal Conductivity at 300K (W/cmK)\", \"Melting Point (K)\", \"Atomic Weight\", \"Density @ 293K (g/cm3)\"], [-0.455, -0.412, -0.438, -0.461, -0.468], [-0.313, -0.712, 0.538, 0.295, 0.137]]}, \"header\": {\"align\": [\"left\", \"left\", \"left\", \"left\", \"left\"], \"fill\": {\"color\": \"#C2D4FF\"}, \"values\": [\"index\", \"PC1\", \"PC2\"]}, \"type\": \"table\", \"uid\": \"271f8ac6-b7c5-4a67-9433-963163cf90a1\"}], {}, {\"showLink\": false, \"linkText\": \"Export to plot.ly\", \"plotlyServerURL\": \"https://plot.ly\"})});</script><script type=\"text/javascript\">window.addEventListener(\"resize\", function(){window._Plotly.Plots.resize(document.getElementById(\"8b623eb6-4f63-4129-9a0f-5bb86241cb4f\"));});</script>"
      ]
     },
     "metadata": {},
     "output_type": "display_data"
    }
   ],
   "source": [
    "P = P.drop(columns=['PC3','PC4','PC5'])\n",
    "P_round = P.round(3)\n",
    "trace = go.Table(header = dict(values = list(P_round.reset_index().columns),\n",
    "                        fill = dict(color='#C2D4FF'),\n",
    "                        align = ['left'] * 5),    \n",
    "                        cells = dict(values = [P_round.index,\n",
    "                                           P_round['PC1'],\n",
    "                                           P_round['PC2']],\n",
    "                        fill = dict(color='#F5F8FF'),\n",
    "                        align = ['left'] * 5))\n",
    "iplot([trace], filename = 'P_table_final')\n"
   ]
  },
  {
   "cell_type": "markdown",
   "metadata": {},
   "source": [
    "Having final matrices of T and P, we can now calculate E using equation 1. E is equal to the standardized data matrix (X) minus these final T and P matrices. The resulting matrix of E is then:"
   ]
  },
  {
   "cell_type": "code",
   "execution_count": 24,
   "metadata": {},
   "outputs": [
    {
     "data": {
      "application/vnd.plotly.v1+json": {
       "config": {
        "linkText": "Export to plot.ly",
        "plotlyServerURL": "https://plot.ly",
        "showLink": false
       },
       "data": [
        {
         "cells": {
          "align": [
           "left",
           "left",
           "left",
           "left",
           "left"
          ],
          "fill": {
           "color": "#F5F8FF"
          },
          "values": [
           [
            "Sc",
            "Ti",
            "V",
            "Cr"
           ],
           [
            0.127,
            -0.216,
            0.107,
            -0.018
           ],
           [
            -0.051,
            0.087,
            -0.043,
            0.007
           ],
           [
            0.058,
            -0.099,
            0.049,
            -0.008
           ],
           [
            -0.063,
            0.107,
            -0.053,
            0.009
           ],
           [
            -0.071,
            0.12,
            -0.06,
            0.01
           ]
          ]
         },
         "header": {
          "align": [
           "left",
           "left",
           "left",
           "left",
           "left"
          ],
          "fill": {
           "color": "#C2D4FF"
          },
          "values": [
           "Element",
           "Electrical Conductivity (10^6/cm ohm)",
           "Thermal Conductivity at 300K (W/cmK)",
           "Melting Point (K)",
           "Atomic Weight",
           "Density @ 293K (g/cm3)"
          ]
         },
         "type": "table",
         "uid": "bcf006b6-041a-4fa2-900d-48f5db4cd38a"
        }
       ],
       "layout": {}
      },
      "text/html": [
       "<div id=\"ee72bf66-19a9-41d5-b1bd-3d4dfc89887f\" style=\"height: 525px; width: 100%;\" class=\"plotly-graph-div\"></div><script type=\"text/javascript\">require([\"plotly\"], function(Plotly) { window.PLOTLYENV=window.PLOTLYENV || {};window.PLOTLYENV.BASE_URL=\"https://plot.ly\";Plotly.newPlot(\"ee72bf66-19a9-41d5-b1bd-3d4dfc89887f\", [{\"cells\": {\"align\": [\"left\", \"left\", \"left\", \"left\", \"left\"], \"fill\": {\"color\": \"#F5F8FF\"}, \"values\": [[\"Sc\", \"Ti\", \"V\", \"Cr\"], [0.127, -0.216, 0.107, -0.018], [-0.051, 0.087, -0.043, 0.007], [0.058, -0.099, 0.049, -0.008], [-0.063, 0.107, -0.053, 0.009], [-0.071, 0.12, -0.06, 0.01]]}, \"header\": {\"align\": [\"left\", \"left\", \"left\", \"left\", \"left\"], \"fill\": {\"color\": \"#C2D4FF\"}, \"values\": [\"Element\", \"Electrical Conductivity (10^6/cm ohm)\", \"Thermal Conductivity at 300K (W/cmK)\", \"Melting Point (K)\", \"Atomic Weight\", \"Density @ 293K (g/cm3)\"]}, \"type\": \"table\", \"uid\": \"a01c6238-ab33-4d4f-aad7-30069c8b9eaa\"}], {}, {\"showLink\": false, \"linkText\": \"Export to plot.ly\", \"plotlyServerURL\": \"https://plot.ly\"})});</script><script type=\"text/javascript\">window.addEventListener(\"resize\", function(){window._Plotly.Plots.resize(document.getElementById(\"ee72bf66-19a9-41d5-b1bd-3d4dfc89887f\"));});</script>"
      ],
      "text/vnd.plotly.v1+html": [
       "<div id=\"ee72bf66-19a9-41d5-b1bd-3d4dfc89887f\" style=\"height: 525px; width: 100%;\" class=\"plotly-graph-div\"></div><script type=\"text/javascript\">require([\"plotly\"], function(Plotly) { window.PLOTLYENV=window.PLOTLYENV || {};window.PLOTLYENV.BASE_URL=\"https://plot.ly\";Plotly.newPlot(\"ee72bf66-19a9-41d5-b1bd-3d4dfc89887f\", [{\"cells\": {\"align\": [\"left\", \"left\", \"left\", \"left\", \"left\"], \"fill\": {\"color\": \"#F5F8FF\"}, \"values\": [[\"Sc\", \"Ti\", \"V\", \"Cr\"], [0.127, -0.216, 0.107, -0.018], [-0.051, 0.087, -0.043, 0.007], [0.058, -0.099, 0.049, -0.008], [-0.063, 0.107, -0.053, 0.009], [-0.071, 0.12, -0.06, 0.01]]}, \"header\": {\"align\": [\"left\", \"left\", \"left\", \"left\", \"left\"], \"fill\": {\"color\": \"#C2D4FF\"}, \"values\": [\"Element\", \"Electrical Conductivity (10^6/cm ohm)\", \"Thermal Conductivity at 300K (W/cmK)\", \"Melting Point (K)\", \"Atomic Weight\", \"Density @ 293K (g/cm3)\"]}, \"type\": \"table\", \"uid\": \"a01c6238-ab33-4d4f-aad7-30069c8b9eaa\"}], {}, {\"showLink\": false, \"linkText\": \"Export to plot.ly\", \"plotlyServerURL\": \"https://plot.ly\"})});</script><script type=\"text/javascript\">window.addEventListener(\"resize\", function(){window._Plotly.Plots.resize(document.getElementById(\"ee72bf66-19a9-41d5-b1bd-3d4dfc89887f\"));});</script>"
      ]
     },
     "metadata": {},
     "output_type": "display_data"
    }
   ],
   "source": [
    "E = X - np.dot(T,P.transpose())\n",
    "iplot(plot_df(E.round(3)), filename = 'E_table')"
   ]
  },
  {
   "cell_type": "markdown",
   "metadata": {},
   "source": [
    "## Step 5: Interpretation of PC Matrices\n",
    "\n",
    "The most convenient way for interpreting our results is to plot both the scores and loading matrix in PC1 vs. PC2 space. First, we will look at the loading plot. In these plots, degree of correlation is defined by proximity between points. Additionally, we can define correlation as follows:\n",
    "\n",
    "<Pre>Correlation between var1 and var2 = cos (angle var1-origin-var2)               [4]</Pre>\n",
    "\n",
    "Thus, points in opposite quadrants are inversely correlated, points in the same quadrant are correlated, while the correlation between points in adjacent quadrants is less clear. For the loadings plot of our analysis (below), none of the variables are inversely correlated, as there are no positive PC1 values. We find density, atomic weight and melting point are correlated, electrical and thermal conductivity are correlated, and the relationship between atomic weight, density and melting point with electrical and thermal conductivities is more complex.\n"
   ]
  },
  {
   "cell_type": "code",
   "execution_count": 25,
   "metadata": {},
   "outputs": [
    {
     "data": {
      "application/vnd.plotly.v1+json": {
       "config": {
        "linkText": "Export to plot.ly",
        "plotlyServerURL": "https://plot.ly",
        "showLink": false
       },
       "data": [
        {
         "mode": "markers+text",
         "text": [
          "Electrical Conductivity",
          "Thermal Conductivity",
          "Melting Point",
          "Atomic Weight",
          "Density"
         ],
         "textposition": "bottom center",
         "type": "scatter",
         "uid": "a53d34cf-b909-4326-b6f9-0dbf028531f1",
         "x": [
          -0.455,
          -0.412,
          -0.438,
          -0.461,
          -0.468
         ],
         "y": [
          -0.313,
          -0.712,
          0.538,
          0.295,
          0.137
         ]
        }
       ],
       "layout": {
        "title": {
         "text": "Loading Plot of PCA"
        },
        "xaxis": {
         "range": [
          -0.48,
          -0.4
         ],
         "title": {
          "text": "Loadings on PC1 (89.86%)"
         }
        },
        "yaxis": {
         "title": {
          "text": "Loadings on PC2 (9.18%)"
         }
        }
       }
      },
      "text/html": [
       "<div id=\"67766e05-3ac1-4d46-af82-94303d9000fa\" style=\"height: 525px; width: 100%;\" class=\"plotly-graph-div\"></div><script type=\"text/javascript\">require([\"plotly\"], function(Plotly) { window.PLOTLYENV=window.PLOTLYENV || {};window.PLOTLYENV.BASE_URL=\"https://plot.ly\";Plotly.newPlot(\"67766e05-3ac1-4d46-af82-94303d9000fa\", [{\"mode\": \"markers+text\", \"text\": [\"Electrical Conductivity\", \"Thermal Conductivity\", \"Melting Point\", \"Atomic Weight\", \"Density\"], \"textposition\": \"bottom center\", \"x\": [-0.455, -0.412, -0.438, -0.461, -0.468], \"y\": [-0.313, -0.712, 0.538, 0.295, 0.137], \"type\": \"scatter\", \"uid\": \"63a656b6-1102-43a9-bd1c-880507b84f5a\"}], {\"title\": {\"text\": \"Loading Plot of PCA\"}, \"xaxis\": {\"range\": [-0.48, -0.4], \"title\": {\"text\": \"Loadings on PC1 (89.86%)\"}}, \"yaxis\": {\"title\": {\"text\": \"Loadings on PC2 (9.18%)\"}}}, {\"showLink\": false, \"linkText\": \"Export to plot.ly\", \"plotlyServerURL\": \"https://plot.ly\"})});</script><script type=\"text/javascript\">window.addEventListener(\"resize\", function(){window._Plotly.Plots.resize(document.getElementById(\"67766e05-3ac1-4d46-af82-94303d9000fa\"));});</script>"
      ],
      "text/vnd.plotly.v1+html": [
       "<div id=\"67766e05-3ac1-4d46-af82-94303d9000fa\" style=\"height: 525px; width: 100%;\" class=\"plotly-graph-div\"></div><script type=\"text/javascript\">require([\"plotly\"], function(Plotly) { window.PLOTLYENV=window.PLOTLYENV || {};window.PLOTLYENV.BASE_URL=\"https://plot.ly\";Plotly.newPlot(\"67766e05-3ac1-4d46-af82-94303d9000fa\", [{\"mode\": \"markers+text\", \"text\": [\"Electrical Conductivity\", \"Thermal Conductivity\", \"Melting Point\", \"Atomic Weight\", \"Density\"], \"textposition\": \"bottom center\", \"x\": [-0.455, -0.412, -0.438, -0.461, -0.468], \"y\": [-0.313, -0.712, 0.538, 0.295, 0.137], \"type\": \"scatter\", \"uid\": \"63a656b6-1102-43a9-bd1c-880507b84f5a\"}], {\"title\": {\"text\": \"Loading Plot of PCA\"}, \"xaxis\": {\"range\": [-0.48, -0.4], \"title\": {\"text\": \"Loadings on PC1 (89.86%)\"}}, \"yaxis\": {\"title\": {\"text\": \"Loadings on PC2 (9.18%)\"}}}, {\"showLink\": false, \"linkText\": \"Export to plot.ly\", \"plotlyServerURL\": \"https://plot.ly\"})});</script><script type=\"text/javascript\">window.addEventListener(\"resize\", function(){window._Plotly.Plots.resize(document.getElementById(\"67766e05-3ac1-4d46-af82-94303d9000fa\"));});</script>"
      ]
     },
     "metadata": {},
     "output_type": "display_data"
    }
   ],
   "source": [
    "trace1 = dict(\n",
    "    type='scatter',\n",
    "    x=P_round['PC1'],\n",
    "    y=P_round['PC2'],\n",
    "    text = ['Electrical Conductivity','Thermal Conductivity','Melting Point','Atomic Weight','Density'],\n",
    "    mode='markers+text',\n",
    "    textposition='bottom center'\n",
    ")\n",
    "\n",
    "data = [trace1]\n",
    "\n",
    "layout=dict(\n",
    "    title='Loading Plot of PCA',\n",
    "    xaxis=dict(\n",
    "        title='Loadings on PC1 (89.86%)',\n",
    "        range = [-0.48, -0.4]\n",
    "    ),\n",
    "    yaxis=dict(\n",
    "        title='Loadings on PC2 (9.18%)',\n",
    "    )\n",
    ")\n",
    "\n",
    "fig = dict(data=data, layout=layout)\n",
    "iplot(fig, filename='Loading Plot')"
   ]
  },
  {
   "cell_type": "markdown",
   "metadata": {},
   "source": [
    "The strongest correlation in all of the data is between atomic weight and density as they sit closest together. This correlation makes physical sense, as we can define density as follows:\n",
    "\n",
    "<Pre>density = mass / volume = (mass/atom) * (atom/volume)                                  [5]</Pre>\n",
    "\n",
    "Therefore, we would expect a strong correlation between density and atomic weight (i.e. mass/atom). The term atom/volume has primarily to do with attraction between atoms, but in the case of transition metals of consecutive atomic number, we would anticipate that the differences in atom/volume would be minor. Therefore, this finding is logical. Similarly, the correlation between electrical conductivity and thermal conductivity can be explained by the Wiedemann-Franz law, which identifies thermal conductivity to be a function of electrical conductivity.\n",
    "\n",
    "The measure of correlation between variables as described in equation 4 should be related to the correlation matrix. Looking at the correlation matrix we calculated earlier, we found that the highest value was 0.99 between atomic weight and density. Therefore, based on the mathematical criteria as well as the physical explanation discussed, our results here are validated.\n",
    "\n",
    "We next look at the scores plot. In this plot, the different elements are plotted in the axes defined by the loadings plot. In this case, we cannot make comparisons in correlation based on quadrants (equation 4) because we mean centered the data. If the data is not mean centered, then the scores can be interpreted like the loadings plot. As this data was mean centered, we are only interested in magnitude of distance between points. In this scores plot, we identify that PC1 is capturing trends related with atomic number, because as atomic number increases, PC1 decreases. It is logical that this relationship would exist as PC1 captures the largest variance in the data and many properties change with atomic number. Note however that we did not input atomic number into the analysis, and so capturing trends between atomic number and the input variables is the type of information used to develop design rules. All of the variables have a positive relationship with atomic number as they all had negative PC1 values, and PC1 decreases with increasing atomic number. In this example the relationship is obvious, but in larger data sets, extracting these type of “hidden” relationships is very important."
   ]
  },
  {
   "cell_type": "code",
   "execution_count": 26,
   "metadata": {},
   "outputs": [
    {
     "data": {
      "application/vnd.plotly.v1+json": {
       "config": {
        "linkText": "Export to plot.ly",
        "plotlyServerURL": "https://plot.ly",
        "showLink": false
       },
       "data": [
        {
         "mode": "markers+text",
         "text": [
          "Sc",
          "Ti",
          "V",
          "Cr"
         ],
         "textposition": "bottom center",
         "type": "scatter",
         "uid": "ac02b6fc-4071-4694-b32d-80316f7af55c",
         "x": [
          2.302,
          1.098,
          -0.928,
          -2.473
         ],
         "y": [
          -0.44,
          0.217,
          0.856,
          -0.634
         ]
        }
       ],
       "layout": {
        "title": {
         "text": "Scores Plot of PCA"
        },
        "xaxis": {
         "range": [
          -3,
          3
         ],
         "title": {
          "text": "PC1 (89.86%)"
         }
        },
        "yaxis": {
         "range": [
          -1,
          1
         ],
         "title": {
          "text": "PC2 (9.18%)"
         }
        }
       }
      },
      "text/html": [
       "<div id=\"22b72a41-7c86-48ce-b1e8-3185eae06dcc\" style=\"height: 525px; width: 100%;\" class=\"plotly-graph-div\"></div><script type=\"text/javascript\">require([\"plotly\"], function(Plotly) { window.PLOTLYENV=window.PLOTLYENV || {};window.PLOTLYENV.BASE_URL=\"https://plot.ly\";Plotly.newPlot(\"22b72a41-7c86-48ce-b1e8-3185eae06dcc\", [{\"mode\": \"markers+text\", \"text\": [\"Sc\", \"Ti\", \"V\", \"Cr\"], \"textposition\": \"bottom center\", \"x\": [2.302, 1.098, -0.928, -2.473], \"y\": [-0.44, 0.217, 0.856, -0.634], \"type\": \"scatter\", \"uid\": \"10aa4645-dc5f-44a2-b096-f4bef02a851d\"}], {\"title\": {\"text\": \"Scores Plot of PCA\"}, \"xaxis\": {\"range\": [-3, 3], \"title\": {\"text\": \"PC1 (89.86%)\"}}, \"yaxis\": {\"range\": [-1, 1], \"title\": {\"text\": \"PC2 (9.18%)\"}}}, {\"showLink\": false, \"linkText\": \"Export to plot.ly\", \"plotlyServerURL\": \"https://plot.ly\"})});</script><script type=\"text/javascript\">window.addEventListener(\"resize\", function(){window._Plotly.Plots.resize(document.getElementById(\"22b72a41-7c86-48ce-b1e8-3185eae06dcc\"));});</script>"
      ],
      "text/vnd.plotly.v1+html": [
       "<div id=\"22b72a41-7c86-48ce-b1e8-3185eae06dcc\" style=\"height: 525px; width: 100%;\" class=\"plotly-graph-div\"></div><script type=\"text/javascript\">require([\"plotly\"], function(Plotly) { window.PLOTLYENV=window.PLOTLYENV || {};window.PLOTLYENV.BASE_URL=\"https://plot.ly\";Plotly.newPlot(\"22b72a41-7c86-48ce-b1e8-3185eae06dcc\", [{\"mode\": \"markers+text\", \"text\": [\"Sc\", \"Ti\", \"V\", \"Cr\"], \"textposition\": \"bottom center\", \"x\": [2.302, 1.098, -0.928, -2.473], \"y\": [-0.44, 0.217, 0.856, -0.634], \"type\": \"scatter\", \"uid\": \"10aa4645-dc5f-44a2-b096-f4bef02a851d\"}], {\"title\": {\"text\": \"Scores Plot of PCA\"}, \"xaxis\": {\"range\": [-3, 3], \"title\": {\"text\": \"PC1 (89.86%)\"}}, \"yaxis\": {\"range\": [-1, 1], \"title\": {\"text\": \"PC2 (9.18%)\"}}}, {\"showLink\": false, \"linkText\": \"Export to plot.ly\", \"plotlyServerURL\": \"https://plot.ly\"})});</script><script type=\"text/javascript\">window.addEventListener(\"resize\", function(){window._Plotly.Plots.resize(document.getElementById(\"22b72a41-7c86-48ce-b1e8-3185eae06dcc\"));});</script>"
      ]
     },
     "metadata": {},
     "output_type": "display_data"
    }
   ],
   "source": [
    "trace1 = dict(\n",
    "    type='scatter',\n",
    "    x=T_round['PC1'],\n",
    "    y=T_round['PC2'],\n",
    "    text = T_round.index,\n",
    "    mode='markers+text',\n",
    "    textposition='bottom center'\n",
    ")\n",
    "\n",
    "data = [trace1]\n",
    "\n",
    "layout=dict(\n",
    "    title='Scores Plot of PCA',\n",
    "    xaxis=dict(\n",
    "        title='PC1 (89.86%)',\n",
    "        range = [-3, 3]\n",
    "    ),\n",
    "    yaxis=dict(\n",
    "        title='PC2 (9.18%)',\n",
    "        range = [-1, 1]\n",
    "    )\n",
    ")\n",
    "\n",
    "fig = dict(data=data, layout=layout)\n",
    "iplot(fig, filename='Loading Plot')"
   ]
  },
  {
   "cell_type": "markdown",
   "metadata": {},
   "source": [
    "Step 6: Expanding to Predictive Approaches\n",
    "\n",
    "Understanding PCA is necessary to understand PLS, which is a predictive technique as opposed to a classification or dimensionality reduction technique. The fundamental mathematical equations of PLS are:\n",
    "\n",
    "<Pre>X = T*P<Sup>T</Sup> + E</Pre>\n",
    "\n",
    "<Pre>Y = U*C<Sup>T</Sup> + F                                                              [6]</Pre>\n",
    "\n",
    "where both equations are identical to the mathematics we have discussed here. X is the predictor variables, that is what is known for all the systems, while Y is the predicted variable, that is what we want to predict. U, C and F are the scores, loadings, and residual of Y, respectively. These equations are then combined so that:\n",
    "\n",
    "<Pre>Y = X\\*P\\*C<Sup>T</Sup> + F                                                           [7]</Pre>\n",
    "\n",
    "Clearly PLS is based on the PCA mathematics. Additionally, the selection of PCs to include in E significantly impacts the results, as the data included in T*P<Sup>T</Sup> is used in the prediction, while E is not. PLS thus acts a regression within PC spaces."
   ]
  }
 ],
 "metadata": {
  "kernelspec": {
   "display_name": "Python 3",
   "language": "python",
   "name": "python3"
  },
  "language_info": {
   "codemirror_mode": {
    "name": "ipython",
    "version": 3
   },
   "file_extension": ".py",
   "mimetype": "text/x-python",
   "name": "python",
   "nbconvert_exporter": "python",
   "pygments_lexer": "ipython3",
   "version": "3.6.5"
  }
 },
 "nbformat": 4,
 "nbformat_minor": 2
}
